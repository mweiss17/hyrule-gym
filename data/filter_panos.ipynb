{
 "cells": [
  {
   "cell_type": "code",
   "execution_count": 1,
   "metadata": {},
   "outputs": [],
   "source": [
    "import csv\n",
    "import os\n",
    "import sys\n",
    "import quaternion\n",
    "import argparse\n",
    "import struct\n",
    "import numpy as np\n",
    "import pandas as pd\n",
    "import time\n",
    "from matplotlib import pyplot as plt\n",
    "from mpl_toolkits.mplot3d import Axes3D\n"
   ]
  },
  {
   "cell_type": "code",
   "execution_count": 18,
   "metadata": {},
   "outputs": [],
   "source": [
    "df = pd.read_csv(\"01-3500-features.txt\", delimiter=\" \", header=None)"
   ]
  },
  {
   "cell_type": "code",
   "execution_count": 19,
   "metadata": {},
   "outputs": [],
   "source": [
    "\n",
    "ROT_MAT = np.array([[0, 0, 1], [-1, 0, 0], [0, -1, 0]])\n",
    "FPS = 30\n",
    "\n",
    "\n",
    "class Pose():\n",
    "    def __init__(self, time_stamp, t, q):\n",
    "        self.time_stamp = time_stamp\n",
    "        self.t = t\n",
    "        self.q = q\n"
   ]
  },
  {
   "cell_type": "code",
   "execution_count": 23,
   "metadata": {},
   "outputs": [],
   "source": [
    "\n",
    "def read_cameras_text(path):\n",
    "    poses = []\n",
    "    x_arr = []; y_arr = []; z_arr = []\n",
    "\n",
    "    with open(path, \"r\") as fid:\n",
    "        while True:\n",
    "            line = fid.readline()\n",
    "            if not line:\n",
    "                break\n",
    "            line = line.strip()\n",
    "            if len(line) > 0 and line[0] != \"#\":\n",
    "                elems = line.split()\n",
    "                time_stamp = float(elems[0])\n",
    "                t = np.array([float(elems[1]), float(elems[2]), float(elems[3])])\n",
    "                t = np.dot(ROT_MAT, t)\n",
    "                t[2] = 0.0\n",
    "                x_arr.append(t[0])\n",
    "                y_arr.append(t[1])\n",
    "                z_arr.append(0.0)\n",
    "                q = np.array([float(elems[4]), float(elems[5]), float(elems[6]), float(elems[7])])\n",
    "                poses.append(Pose(time_stamp=time_stamp, t=t, q=q))\n",
    "    return poses, x_arr, y_arr, z_arr\n",
    "\n",
    "\n",
    "def find_angle(ref_q, q):\n",
    "    rqvec = np.quaternion(ref_q[0], ref_q[1], ref_q[2], ref_q[3])\n",
    "    qvec = np.quaternion(q[0], q[1], q[2], q[3])\n",
    "    new_q = rqvec.inverse()*qvec\n",
    "    ang = np.dot(np.array([0,1,0]), quaternion.as_rotation_vector(new_q))*180/np.pi\n",
    "    angle = ang % 360\n",
    "    return angle\n",
    "\n",
    "\n",
    "def filter_poses(poses):\n",
    "    pose_indices = [x for x in range(len(poses))]\n",
    "    to_filter = set()\n",
    "    for i in range(len(poses)):\n",
    "        for j in range(len(poses)):\n",
    "            dist = np.linalg.norm(poses[i].t - poses[j].t)\n",
    "            if i == j or j in to_filter or i in to_filter:\n",
    "                continue\n",
    "            if dist < 0.5:\n",
    "                to_filter.add(j)\n",
    "                continue\n",
    "    return [poses[i] for i in pose_indices if i not in to_filter]\n",
    "\n",
    "def filter_poses_1(poses):\n",
    "    filtered = []\n",
    "    x_arr = []; y_arr = []; z_arr = []\n",
    "    curr_idx = 0\n",
    "    filtered.append(poses[0])\n",
    "    for i in range(len(poses)):\n",
    "        for idx, pose in enumerate(poses[curr_idx:]):\n",
    "            dist = np.linalg.norm(pose.t - poses[curr_idx].t)\n",
    "            if dist > 0.5:\n",
    "                filtered.append(pose)\n",
    "                curr_idx = idx\n",
    "                continue\n",
    "    return filtered\n",
    "\n",
    "\n",
    "def save_poses(filename, poses):\n",
    "    col = ['frame', 'x', 'y', 'z', 'angle']\n",
    "    data = pd.DataFrame(columns=col)\n",
    "\n",
    "    ref_pose = poses[0]\n",
    "    for idx, pose in enumerate(poses):\n",
    "        angle = find_angle(ref_pose.q, pose.q)\n",
    "        frame = round(pose.time_stamp*FPS)\n",
    "        d = {'frame': frame, 'x':pose.t[0], 'y':pose.t[1], 'z':pose.t[2], 'angle':angle}\n",
    "        data.loc[idx] = pd.Series(d)\n",
    "#         print(\"frame :\" + str(frame) + \"  angle: \" + str(angle))\n",
    "        np.save(filename, data.values)\n"
   ]
  },
  {
   "cell_type": "code",
   "execution_count": 24,
   "metadata": {},
   "outputs": [
    {
     "data": {
      "text/plain": [
       "{'time_stamp': 8.9,\n",
       " 't': array([0.3410014, 0.122903 , 0.       ]),\n",
       " 'q': array([0.0016726, 0.0089055, 0.003894 , 0.9999514])}"
      ]
     },
     "execution_count": 24,
     "metadata": {},
     "output_type": "execute_result"
    }
   ],
   "source": [
    "filtered_poses[0].__dict__"
   ]
  },
  {
   "cell_type": "code",
   "execution_count": 25,
   "metadata": {},
   "outputs": [],
   "source": [
    "filename = \"01.txt\"\n",
    "poses, x, y, z = read_cameras_text(filename)\n",
    "filtered_poses = filter_poses(filter_poses_1(poses))\n",
    "region = \"run_1\"\n",
    "save_poses(\"data/\"+ region + \"/processed/pos_ang\", filtered_poses)\n",
    "\n"
   ]
  },
  {
   "cell_type": "code",
   "execution_count": 7,
   "metadata": {},
   "outputs": [
    {
     "data": {
      "text/plain": [
       "532"
      ]
     },
     "execution_count": 7,
     "metadata": {},
     "output_type": "execute_result"
    }
   ],
   "source": [
    "len(filtered_poses)"
   ]
  },
  {
   "cell_type": "code",
   "execution_count": 8,
   "metadata": {},
   "outputs": [],
   "source": [
    "x_f = [list(x.t)[0] for x in filtered_poses]\n",
    "y_f = [list(x.t)[1] for x in filtered_poses]\n"
   ]
  },
  {
   "cell_type": "code",
   "execution_count": 9,
   "metadata": {},
   "outputs": [
    {
     "data": {
      "text/plain": [
       "<matplotlib.collections.PathCollection at 0xb1db0d7b8>"
      ]
     },
     "execution_count": 9,
     "metadata": {},
     "output_type": "execute_result"
    },
    {
     "data": {
      "image/png": "[encoded data removed]",
      "text/plain": [
       "<Figure size 432x288 with 1 Axes>"
      ]
     },
     "metadata": {
      "needs_background": "light"
     },
     "output_type": "display_data"
    }
   ],
   "source": [
    "plt.scatter(x_f[:478], y_f[:478])"
   ]
  },
  {
   "cell_type": "code",
   "execution_count": 10,
   "metadata": {},
   "outputs": [],
   "source": [
    "prefix = \"/Volumes/Arnold2/panos/2019-06-10\"\n",
    "paths = []\n",
    "for d in os.listdir(prefix):\n",
    "    path = prefix + \"/\" + d\n",
    "    for f in os.listdir(path):\n",
    "        paths.append(path + \"/\" + f)\n",
    "        "
   ]
  },
  {
   "cell_type": "code",
   "execution_count": 11,
   "metadata": {},
   "outputs": [],
   "source": [
    "to_find = [str(int(x.time_stamp * 30)).zfill(6) for x in filtered_poses]"
   ]
  },
  {
   "cell_type": "code",
   "execution_count": 12,
   "metadata": {},
   "outputs": [],
   "source": [
    "good_paths = []\n",
    "for path in paths:\n",
    "    for num in to_find:\n",
    "        if num in path:\n",
    "            good_paths.append(path)"
   ]
  },
  {
   "cell_type": "code",
   "execution_count": 31,
   "metadata": {},
   "outputs": [],
   "source": [
    "dst_path = os.getcwd() + \"/panos/\"\n",
    "os.mkdir(dst_path)"
   ]
  },
  {
   "cell_type": "code",
   "execution_count": 36,
   "metadata": {},
   "outputs": [],
   "source": [
    "from shutil import copyfile\n",
    "\n",
    "for path in good_paths:\n",
    "    copyfile(path, dst_path + path.split(\"/\")[-1])\n"
   ]
  },
  {
   "cell_type": "code",
   "execution_count": null,
   "metadata": {},
   "outputs": [],
   "source": []
  },
  {
   "cell_type": "code",
   "execution_count": null,
   "metadata": {},
   "outputs": [],
   "source": [
    "# points_orig = [x.t[:2] for x in poses]\n",
    "# delta = []\n",
    "# for idx, point1 in enumerate(points_orig):\n",
    "#     if idx + 1 == len(points_orig):\n",
    "#         break\n",
    "#     delta.append(np.linalg.norm(points_orig[idx + 1] -point1))\n",
    "# np.mean(delta) * 30"
   ]
  },
  {
   "cell_type": "code",
   "execution_count": 319,
   "metadata": {},
   "outputs": [
    {
     "ename": "ValueError",
     "evalue": "x and y must be the same size",
     "output_type": "error",
     "traceback": [
      "\u001b[0;31m---------------------------------------------------------------------------\u001b[0m",
      "\u001b[0;31mValueError\u001b[0m                                Traceback (most recent call last)",
      "\u001b[0;32m<ipython-input-319-83e22eb4d601>\u001b[0m in \u001b[0;36m<module>\u001b[0;34m\u001b[0m\n\u001b[1;32m      6\u001b[0m \u001b[0mthe_bulk_x\u001b[0m \u001b[0;34m=\u001b[0m \u001b[0mx_f\u001b[0m\u001b[0;34m[\u001b[0m\u001b[0;34m:\u001b[0m\u001b[0;36m250\u001b[0m\u001b[0;34m]\u001b[0m\u001b[0;34m\u001b[0m\u001b[0;34m\u001b[0m\u001b[0m\n\u001b[1;32m      7\u001b[0m \u001b[0mthe_bulk_y\u001b[0m \u001b[0;34m=\u001b[0m \u001b[0my_f\u001b[0m\u001b[0;34m[\u001b[0m\u001b[0;34m:\u001b[0m\u001b[0;36m250\u001b[0m\u001b[0;34m]\u001b[0m\u001b[0;34m\u001b[0m\u001b[0;34m\u001b[0m\u001b[0m\n\u001b[0;32m----> 8\u001b[0;31m \u001b[0mplt\u001b[0m\u001b[0;34m.\u001b[0m\u001b[0mscatter\u001b[0m\u001b[0;34m(\u001b[0m\u001b[0mnp\u001b[0m\u001b[0;34m.\u001b[0m\u001b[0mappend\u001b[0m\u001b[0;34m(\u001b[0m\u001b[0mthe_bulk_x\u001b[0m\u001b[0;34m,\u001b[0m \u001b[0mlast_section_x\u001b[0m\u001b[0;34m)\u001b[0m\u001b[0;34m,\u001b[0m \u001b[0mnp\u001b[0m\u001b[0;34m.\u001b[0m\u001b[0mappend\u001b[0m\u001b[0;34m(\u001b[0m\u001b[0mthe_bulk_y\u001b[0m\u001b[0;34m,\u001b[0m \u001b[0mlast_section_y\u001b[0m\u001b[0;34m)\u001b[0m\u001b[0;34m)\u001b[0m\u001b[0;34m\u001b[0m\u001b[0;34m\u001b[0m\u001b[0m\n\u001b[0m",
      "\u001b[0;32m/anaconda3/lib/python3.7/site-packages/matplotlib/pyplot.py\u001b[0m in \u001b[0;36mscatter\u001b[0;34m(x, y, s, c, marker, cmap, norm, vmin, vmax, alpha, linewidths, verts, edgecolors, data, **kwargs)\u001b[0m\n\u001b[1;32m   2860\u001b[0m         \u001b[0mvmin\u001b[0m\u001b[0;34m=\u001b[0m\u001b[0mvmin\u001b[0m\u001b[0;34m,\u001b[0m \u001b[0mvmax\u001b[0m\u001b[0;34m=\u001b[0m\u001b[0mvmax\u001b[0m\u001b[0;34m,\u001b[0m \u001b[0malpha\u001b[0m\u001b[0;34m=\u001b[0m\u001b[0malpha\u001b[0m\u001b[0;34m,\u001b[0m \u001b[0mlinewidths\u001b[0m\u001b[0;34m=\u001b[0m\u001b[0mlinewidths\u001b[0m\u001b[0;34m,\u001b[0m\u001b[0;34m\u001b[0m\u001b[0;34m\u001b[0m\u001b[0m\n\u001b[1;32m   2861\u001b[0m         verts=verts, edgecolors=edgecolors, **({\"data\": data} if data\n\u001b[0;32m-> 2862\u001b[0;31m         is not None else {}), **kwargs)\n\u001b[0m\u001b[1;32m   2863\u001b[0m     \u001b[0msci\u001b[0m\u001b[0;34m(\u001b[0m\u001b[0m__ret\u001b[0m\u001b[0;34m)\u001b[0m\u001b[0;34m\u001b[0m\u001b[0;34m\u001b[0m\u001b[0m\n\u001b[1;32m   2864\u001b[0m     \u001b[0;32mreturn\u001b[0m \u001b[0m__ret\u001b[0m\u001b[0;34m\u001b[0m\u001b[0;34m\u001b[0m\u001b[0m\n",
      "\u001b[0;32m/anaconda3/lib/python3.7/site-packages/matplotlib/__init__.py\u001b[0m in \u001b[0;36minner\u001b[0;34m(ax, data, *args, **kwargs)\u001b[0m\n\u001b[1;32m   1808\u001b[0m                         \u001b[0;34m\"the Matplotlib list!)\"\u001b[0m \u001b[0;34m%\u001b[0m \u001b[0;34m(\u001b[0m\u001b[0mlabel_namer\u001b[0m\u001b[0;34m,\u001b[0m \u001b[0mfunc\u001b[0m\u001b[0;34m.\u001b[0m\u001b[0m__name__\u001b[0m\u001b[0;34m)\u001b[0m\u001b[0;34m,\u001b[0m\u001b[0;34m\u001b[0m\u001b[0;34m\u001b[0m\u001b[0m\n\u001b[1;32m   1809\u001b[0m                         RuntimeWarning, stacklevel=2)\n\u001b[0;32m-> 1810\u001b[0;31m             \u001b[0;32mreturn\u001b[0m \u001b[0mfunc\u001b[0m\u001b[0;34m(\u001b[0m\u001b[0max\u001b[0m\u001b[0;34m,\u001b[0m \u001b[0;34m*\u001b[0m\u001b[0margs\u001b[0m\u001b[0;34m,\u001b[0m \u001b[0;34m**\u001b[0m\u001b[0mkwargs\u001b[0m\u001b[0;34m)\u001b[0m\u001b[0;34m\u001b[0m\u001b[0;34m\u001b[0m\u001b[0m\n\u001b[0m\u001b[1;32m   1811\u001b[0m \u001b[0;34m\u001b[0m\u001b[0m\n\u001b[1;32m   1812\u001b[0m         inner.__doc__ = _add_data_doc(inner.__doc__,\n",
      "\u001b[0;32m/anaconda3/lib/python3.7/site-packages/matplotlib/axes/_axes.py\u001b[0m in \u001b[0;36mscatter\u001b[0;34m(self, x, y, s, c, marker, cmap, norm, vmin, vmax, alpha, linewidths, verts, edgecolors, **kwargs)\u001b[0m\n\u001b[1;32m   4180\u001b[0m         \u001b[0my\u001b[0m \u001b[0;34m=\u001b[0m \u001b[0mnp\u001b[0m\u001b[0;34m.\u001b[0m\u001b[0mma\u001b[0m\u001b[0;34m.\u001b[0m\u001b[0mravel\u001b[0m\u001b[0;34m(\u001b[0m\u001b[0my\u001b[0m\u001b[0;34m)\u001b[0m\u001b[0;34m\u001b[0m\u001b[0;34m\u001b[0m\u001b[0m\n\u001b[1;32m   4181\u001b[0m         \u001b[0;32mif\u001b[0m \u001b[0mx\u001b[0m\u001b[0;34m.\u001b[0m\u001b[0msize\u001b[0m \u001b[0;34m!=\u001b[0m \u001b[0my\u001b[0m\u001b[0;34m.\u001b[0m\u001b[0msize\u001b[0m\u001b[0;34m:\u001b[0m\u001b[0;34m\u001b[0m\u001b[0;34m\u001b[0m\u001b[0m\n\u001b[0;32m-> 4182\u001b[0;31m             \u001b[0;32mraise\u001b[0m \u001b[0mValueError\u001b[0m\u001b[0;34m(\u001b[0m\u001b[0;34m\"x and y must be the same size\"\u001b[0m\u001b[0;34m)\u001b[0m\u001b[0;34m\u001b[0m\u001b[0;34m\u001b[0m\u001b[0m\n\u001b[0m\u001b[1;32m   4183\u001b[0m \u001b[0;34m\u001b[0m\u001b[0m\n\u001b[1;32m   4184\u001b[0m         \u001b[0;32mif\u001b[0m \u001b[0ms\u001b[0m \u001b[0;32mis\u001b[0m \u001b[0;32mNone\u001b[0m\u001b[0;34m:\u001b[0m\u001b[0;34m\u001b[0m\u001b[0;34m\u001b[0m\u001b[0m\n",
      "\u001b[0;31mValueError\u001b[0m: x and y must be the same size"
     ]
    },
    {
     "data": {
      "image/png": "[encoded data removed]",
      "text/plain": [
       "<Figure size 432x288 with 1 Axes>"
      ]
     },
     "metadata": {
      "needs_background": "light"
     },
     "output_type": "display_data"
    }
   ],
   "source": [
    "# last_section_x = []\n",
    "# for i in range(450, 527):\n",
    "#     total = 527-450\n",
    "#     last_section_x.append(x_f[i] + (i-450)/total*3)\n",
    "# last_section_y = y_f[450:527]\n",
    "# the_bulk_x = x_f[:450]\n",
    "# the_bulk_y = y_f[:450]\n",
    "# plt.scatter(np.append(the_bulk_x, last_section_x), np.append(the_bulk_y, last_section_y))"
   ]
  },
  {
   "cell_type": "code",
   "execution_count": 225,
   "metadata": {},
   "outputs": [
    {
     "data": {
      "text/plain": [
       "<matplotlib.collections.PathCollection at 0xb273c14e0>"
      ]
     },
     "execution_count": 225,
     "metadata": {},
     "output_type": "execute_result"
    },
    {
     "data": {
      "image/png": "[encoded data removed]",
      "text/plain": [
       "<Figure size 432x288 with 1 Axes>"
      ]
     },
     "metadata": {
      "needs_background": "light"
     },
     "output_type": "display_data"
    }
   ],
   "source": [
    "x = x_f[:450]\n",
    "x = x[:200] + x[250:450]\n",
    "y = y_f[:450]\n",
    "y = y[:200] + y[250:450]\n",
    "\n",
    "plt.scatter(x, y)"
   ]
  },
  {
   "cell_type": "code",
   "execution_count": 106,
   "metadata": {},
   "outputs": [],
   "source": [
    "x_f = np.array(x_f)"
   ]
  },
  {
   "cell_type": "code",
   "execution_count": 107,
   "metadata": {},
   "outputs": [],
   "source": [
    "x_f2 = x_f[10 < x_f]"
   ]
  },
  {
   "cell_type": "code",
   "execution_count": 108,
   "metadata": {},
   "outputs": [],
   "source": [
    "x_f3 = x_f2[11.5 > x_f2]"
   ]
  },
  {
   "cell_type": "code",
   "execution_count": 109,
   "metadata": {},
   "outputs": [
    {
     "data": {
      "text/plain": [
       "array([10.0936232, 11.0942926, 10.5741129, 10.5376253, 10.7085772,\n",
       "       10.7829514, 10.8514862, 10.9322376, 10.98141  , 11.1249485,\n",
       "       11.252387 , 11.3575144, 10.9551048, 10.1631041, 10.5332165,\n",
       "       10.6410637, 10.7319098, 10.808939 , 10.865406 , 10.9348841,\n",
       "       11.0352097, 11.1308422, 11.2328806, 11.3429985, 11.4634581,\n",
       "       11.0283995, 10.1303043, 10.1198597, 10.2098246, 10.3123636,\n",
       "       10.4002075, 10.9228849, 11.0326481, 11.1636686, 11.2600508,\n",
       "       11.3450613, 11.4192829, 10.4392185, 11.468523 , 10.6642475,\n",
       "       10.6202526])"
      ]
     },
     "execution_count": 109,
     "metadata": {},
     "output_type": "execute_result"
    }
   ],
   "source": [
    "x_f3"
   ]
  },
  {
   "cell_type": "code",
   "execution_count": 82,
   "metadata": {},
   "outputs": [
    {
     "data": {
      "text/plain": [
       "<matplotlib.collections.PathCollection at 0xb27963b70>"
      ]
     },
     "execution_count": 82,
     "metadata": {},
     "output_type": "execute_result"
    },
    {
     "data": {
      "image/png": "[encoded data removed]",
      "text/plain": [
       "<Figure size 432x288 with 1 Axes>"
      ]
     },
     "metadata": {
      "needs_background": "light"
     },
     "output_type": "display_data"
    }
   ],
   "source": [
    "plt.scatter(x_f[450:527] * np.array(0.5), y_f[450:527])"
   ]
  },
  {
   "cell_type": "code",
   "execution_count": 75,
   "metadata": {},
   "outputs": [
    {
     "data": {
      "text/plain": [
       "[-1.9878802,\n",
       " -2.1235967,\n",
       " -2.2610552,\n",
       " -2.419477,\n",
       " -2.6072614,\n",
       " -2.807421,\n",
       " -2.8295476,\n",
       " -2.9965773,\n",
       " -3.1669114,\n",
       " -3.2964277,\n",
       " -3.4979839,\n",
       " -3.6837366,\n",
       " -3.8674474,\n",
       " -4.0438123,\n",
       " -4.1821785,\n",
       " -4.3264685,\n",
       " -4.5353827,\n",
       " -4.7098641,\n",
       " -4.8892055,\n",
       " -5.0898046,\n",
       " -5.3284507,\n",
       " -5.5276246,\n",
       " -5.735754,\n",
       " -5.9304562,\n",
       " -6.1352057,\n",
       " -6.29842,\n",
       " -6.4849539]"
      ]
     },
     "execution_count": 75,
     "metadata": {},
     "output_type": "execute_result"
    }
   ],
   "source": [
    "x_f[500:527]"
   ]
  },
  {
   "cell_type": "code",
   "execution_count": 71,
   "metadata": {},
   "outputs": [
    {
     "data": {
      "text/plain": [
       "527"
      ]
     },
     "execution_count": 71,
     "metadata": {},
     "output_type": "execute_result"
    }
   ],
   "source": [
    "len(x_f)"
   ]
  },
  {
   "cell_type": "code",
   "execution_count": null,
   "metadata": {},
   "outputs": [],
   "source": []
  }
 ],
 "metadata": {
  "kernelspec": {
   "display_name": "Python 3",
   "language": "python",
   "name": "python3"
  },
  "language_info": {
   "codemirror_mode": {
    "name": "ipython",
    "version": 3
   },
   "file_extension": ".py",
   "mimetype": "text/x-python",
   "name": "python",
   "nbconvert_exporter": "python",
   "pygments_lexer": "ipython3",
   "version": "3.7.3"
  }
 },
 "nbformat": 4,
 "nbformat_minor": 2
}
